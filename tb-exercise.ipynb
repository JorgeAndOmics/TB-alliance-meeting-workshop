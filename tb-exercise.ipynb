{
 "cells": [
  {
   "cell_type": "markdown",
   "metadata": {},
   "source": [
    "#### **Entrez, BLAST and Multiple Sequence Alignments**\n",
    "###### **Alliance meeting Paraguay EUSAT-RCS consortium, 2024**\n",
    "\n",
    "###### *Designed by Jorge G. García, 2024*\n",
    "---\n",
    "Welcome to a brief introduction into comparative genomics. Specialized database queries and sequence alignments form the backbone of innumerable research projects across the world, and the fight against TB makes extensive use of these tools. Some among the uses of these technologies are:\n",
    "- Identifying point mutations in selected genes across different strains of Mycobacterium tuberculosis (Mtb).\n",
    "- Tracking the natural history of Mtb across regions and time periods.\n",
    "- Revealing patterns of spread and transmission through phylogenetic analysis.\n",
    "- Discovering potential targets for new drugs by comparing gene sequences between drug-resistant and drug-susceptible strains.\n",
    "- Assessing the genetic diversity of Mtb strains to inform vaccine development and tailor treatments to specific variants.\n",
    "\n",
    "As we embark on this journey, we'll explore how to programmatically retrieve DNA sequences from specialized databases and how to compare them in insightful ways. This workshop is designed to equip you with the knowledge and tools to contribute to the global effort against TB through the lens of bioinformatics. Even though we will use real-word, up-to-date data throughout most of the exercise, it is directed towards a wide audience and doesn't require any previous knowledge of bioinformatic pipelines, or even Python! \n",
    "\n",
    "If you have no experience with code whatsoever, fret not! This exercise is designed to lead you effortlessly straight to the end. If for some reason you break it, restart and voilà. If you are already familiar with programming, this exercise should be of use to understand how biological data is retrieved and aligned. Feel free to tinker with other parameters and explore how the code works!\n",
    "\n",
    "Last but not least, across the exercise you will see many hyperlinks scattered across the sections. Click on them to access extra resources that will enrich your experience, add context or reveal interesting facts about the lesson.\n",
    "\n",
    "With all this in mind, take a deep breath and press the Run button in the first cell. Welcome to bioinformatics.\n"
   ]
  },
  {
   "cell_type": "code",
   "execution_count": 59,
   "metadata": {},
   "outputs": [],
   "source": [
    "from Bio import Entrez, SeqIO, Phylo, AlignIO, Align\n",
    "from Bio.Blast import NCBIWWW, NCBIXML\n",
    "from Bio.Align.Applications import ClustalOmegaCommandline\n",
    "from Bio.Phylo.TreeConstruction import DistanceCalculator, DistanceTreeConstructor\n",
    "import pandas as pd\n",
    "import numpy as np\n",
    "import time"
   ]
  },
  {
   "cell_type": "markdown",
   "metadata": {},
   "source": [
    "Congratulations! You just imported the necessary libraries to perform all the analysis in this exercise. \n",
    "\n",
    "In programming, a library is a collection of precompiled routines - sets of instructions - that a program can use. These routines are designed to accomplish specific tasks, such as handling files and data, performing mathematical computations, or managing network connections - and that is exactly what we are going to do with these. Many of these libraries we will be using, like pandas for tabular data management or the powerful numpy for mathematical operations, are used everywhere across the world in many different fields, from finance to weather forecasting. \n",
    "\n",
    "You will also see that many of our import statements start with \"Bio\" - short of [Biopython](https://biopython.org/), a specialized and comprehensive library to perform operations on biological data. \n",
    "\n",
    "But before proceeding, we should have very clear what we are looking for. [Mycobacterium tuberculosis](https://www.microbiologyresearch.org/content/journal/micro/10.1099/mic.0.000601) genome is approximately 4.4 million bases in length, encoding around 4000 genes and innumerable non-codifying - but still important - regions. As researchers, we are often interested in specific segments of this whole, particularly those associated to traits in the pathogen, and one the most noteworthy ones is antibiotic resistance.\n",
    "\n",
    "There is ample evidence of the association between the activation of certain genes in Mtb and antibiotic resistance. Some of the most prominent are:\n",
    "- [**rpoB**](https://www.ncbi.nlm.nih.gov/pmc/articles/PMC8502021/): Mutations in the *rpoB* gene, which encodes the β subunit of RNA polymerase, are responsible for resistance to rifampicin, a key first-line drug for TB treatment. Resistance to rifampicin is a critical marker for multidrug-resistant TB (MDR-TB).\n",
    "\n",
    "- [**katG**](https://journals.asm.org/doi/10.1128/jb.175.13.4255-4259.1993): Mutations in this gene, which encodes catalase-peroxidase, are associated with isoniazid resistance. Isoniazid, another first-line anti-TB drug, requires activation by KatG to exert its antibacterial effect. Mutations in katG can lead to a loss of this activation, resulting in resistance.\n",
    "\n",
    "- [**inhA**](https://www.ncbi.nlm.nih.gov/pmc/articles/PMC7856099/#:~:text=KatG%20and%20inhA%20gene%20mutations%20are%20the%20main,are%20activated%20by%20monooxygenase%20EthA%20and%20catalase-peroxidase%20KatG.): This gene encodes an enzyme involved in the synthesis of mycolic acid, a component of the Mtb cell wall. Mutations in the promoter region of *inhA* can also confer resistance to isoniazid.\n",
    "\n",
    "- [**embB**](https://pubmed.ncbi.nlm.nih.gov/33210572/#:~:text=Ethambutol%20%28EMB%29%20is%20one%20of%20the%20first-line%20drugs,for%20around%2070%25%20clinical%20EMB%20resistant%20M.%20tuberculosis.): The *embB* gene is associated with resistance to ethambutol, a first-line drug that targets cell wall synthesis. Mutations in embB can affect the drug's ability to inhibit the arabinogalactan synthesis, leading to resistance.\n",
    "\n",
    "We will look into the first one, *rpoB*, and its role in rifampicine resistance development. [Rifampicine](https://go.drugbank.com/drugs/DB01045) is a widely used antibiotic used in TB treatment, and works by inhibiting the RNA polymerase enzyme, which is crucial for RNA synthesis. When used in combination therapy, rifampicin helps prevent the development of drug-resistant TB strains. However, monotherapy or improper use of rifampicin can lead to the emergence of resistance, which is a growing concern worldwide. \n",
    "\n",
    "You will now perform a simulacrum of a search against the Entrez database, looking for any publication that contains nucleotide sequences (DNA in our case) and the words \"Mycobacterium\", \"tuberculosis\" and \"rifampicin\" in its title. Press the Run button in the next cell and see what happens!\n",
    "\n",
    "\n",
    "[^1]: test\n"
   ]
  },
  {
   "cell_type": "code",
   "execution_count": 60,
   "metadata": {},
   "outputs": [
    {
     "name": "stdout",
     "output_type": "stream",
     "text": [
      "Fetching sequences...\n"
     ]
    },
    {
     "name": "stdout",
     "output_type": "stream",
     "text": [
      "Filtered 2 sequences at most 200bp.\n"
     ]
    }
   ],
   "source": [
    "def fetch_and_filter_sequences():\n",
    "    seq_length = 200\n",
    "    print('Fetching sequences...')\n",
    "    search_handle = Entrez.esearch(db=\"nucleotide\", term=\"Mycobacterium tuberculosis rifampicin[Title]\", retmax=100)\n",
    "    search_results = Entrez.read(search_handle)\n",
    "    search_handle.close()\n",
    "    id_list = search_results['IdList']\n",
    "\n",
    "    fetch_handle = Entrez.efetch(db=\"nucleotide\", id=id_list, rettype=\"fasta\", retmode=\"text\")\n",
    "    sequences = list(SeqIO.parse(fetch_handle, \"fasta\"))\n",
    "    fetch_handle.close()\n",
    "\n",
    "    filtered_sequences = [seq for seq in sequences if len(seq.seq) <= seq_length]\n",
    "    SeqIO.write(filtered_sequences, \"filtered_sequences.fasta\", \"fasta\")\n",
    "    print(f\"Filtered {len(filtered_sequences)} sequences at most {seq_length}bp.\")\n",
    "\n",
    "def fetch_and_filter_sequences_sim():\n",
    "    seq_length = 200\n",
    "    print('Fetching sequences...')\n",
    "    with open('filtered_sequences.fasta', 'r') as file:\n",
    "        filtered_sequences = list(SeqIO.parse(file, 'fasta'))\n",
    "        time.sleep(5)\n",
    "        print(f\"Filtered {len(filtered_sequences)} sequences at most {seq_length}bp.\")\n",
    "\n",
    "\n",
    "fetch_and_filter_sequences_sim()"
   ]
  },
  {
   "cell_type": "markdown",
   "metadata": {},
   "source": [
    "As you can see, the previous cell contains two functions, called almost exactly the same. Well, there's no mistery to it, the first one is the real deal, and the second a simple simulacrum that outputs the same messages. Why are we doing this? Aren't we supposed to retrieve real data in real time? Well, there are two reasons for this:\n",
    "1. This operation runs in the background, and depending on the complexity of the query, it may take several minutes of you looking at an empty terminal before it finishes.\n",
    "2. It takes computational resources out of the Entrez database to perform a query. We can save them this redundant effort by having the files already prepared and ready to go, just as you do!\n",
    "\n",
    "You are however, very welcome to check the exact same file it would have downloaded otherwise, named \"aligned_sequences.fasta\". A [FASTA](https://www.ncbi.nlm.nih.gov/genbank/fastaformat/) file is a plain text document that usually contains a header and a given sequence. For example, our FASTA file contains two sequences, the first one being:\n",
    "\n",
    "```\n",
    ">LN651305.1 Mycobacterium tuberculosis partial rpoB gene, isolate Kw9101-13, rifampicin resistance determining region\n",
    "GTGGTCGCCGCGATCAAGGAGTTCTTCGGCACCAGCCAGCTGAGCCAATTCATGTACCAG\n",
    "AACAACCCGCTGTCGGGGTTGACCCACAAGCGCCGACTGTCGGCGCTGGGGCCCGGCGGT\n",
    "CTGTCACGTGAGCGTGCCGGGCTG\n",
    "```\n",
    "\n",
    "FASTA file entries always start with a header. Most of the structure of this header beyond the first \">\" symbol is not a hard requirement of FASTA files - we could change it and our script would work just as fine - but it contains useful information for us:\n",
    "1. Sequence ID, an exclusive identifier of the sequence.\n",
    "2. The source organism.\n",
    "3. The location of the sequence.\n",
    "4. The rol of the sequence in the genome.\n",
    "\n",
    "However, FASTA files are widely used not for their headers, but for their sequences. They are a light, straightforward way to share sequences, be it proteins or nucleic acids. The Biopython library contains routines to parse and extract structured information from these files in a convenient way for further exploration. Press the Run button in the next cell to continue."
   ]
  },
  {
   "cell_type": "code",
   "execution_count": 61,
   "metadata": {},
   "outputs": [
    {
     "name": "stdout",
     "output_type": "stream",
     "text": [
      "2 sequences read.\n"
     ]
    },
    {
     "data": {
      "text/plain": [
       "[SeqRecord(seq=Seq('GTGGTCGCCGCGATCAAGGAGTTCTTCGGCACCAGCCAGCTGAGCCAATTCATG...CTG'), id='LN651305.1', name='LN651305.1', description='LN651305.1 Mycobacterium tuberculosis partial rpoB gene, isolate Kw9101-13, rifampicin resistance determining region', dbxrefs=[]),\n",
       " SeqRecord(seq=Seq('GTGGTCGCCGCGATCAAGGAGTTCTTCGGCACCAGCCAGCTGAGCCAATTCATG...CTG'), id='LN651304.1', name='LN651304.1', description='LN651304.1 Mycobacterium tuberculosis partial rpoB gene, isolate Kw5741-13, rifampicin resistance determining region', dbxrefs=[])]"
      ]
     },
     "execution_count": 61,
     "metadata": {},
     "output_type": "execute_result"
    }
   ],
   "source": [
    "def seq_reader():\n",
    "    with open('filtered_sequences.fasta', 'r') as file:\n",
    "        sequences = list(SeqIO.parse(file, 'fasta'))\n",
    "        print(f\"{len(sequences)} sequences read.\")\n",
    "        return sequences\n",
    "    \n",
    "seq_reader()"
   ]
  },
  {
   "cell_type": "markdown",
   "metadata": {},
   "source": [
    "Now this is much better! We can see all the information retrieved by categories. But then one wonders, what is this database I just obtained this data from? Why are their descriptions so similar? Should I trust it? \n",
    "\n",
    "Great questions! Let's explore for a few seconds the world of biological databases and the place Entrez has among them.\n",
    "\n",
    "The [Entrez](https://www.ncbi.nlm.nih.gov/Web/Search/entrezfs.html) database system is a comprehensive and integrated suite of databases developed and maintained by the [National Center for Biotechnology Information (NCBI)](https://www.ncbi.nlm.nih.gov/). It provides access to a wide range of biological data, including nucleotide and protein sequences, genome data, chemical compounds, literature references, and much more. The Entrez system is designed to facilitate the search and retrieval of biological information across various databases, making it a crucial resource for researchers in the fields of molecular biology, genetics, medicine, and bioinformatics. \n",
    "\n",
    "TL;DR: Look at it like a sort of Google for biochemical data. Its integrated nature allows for a seamless exploration of related data across different biological aspects, making it an essential resource for researchers around the world.\n",
    "\n",
    "Our function merely \"asked\" the Nucleotide database, part of Entrez, for any entry matching our criteria, and returned a collection of sequences. Then, those sequences with a length equal or less than 200 base pairs were selected to continue the analysis downstream. Neither the database nor our function know what we plan to do with these sequences so it is up to us to analyse them, starting with verifying whether they are identical or not. Press the Run button in the next cell to continue."
   ]
  },
  {
   "cell_type": "code",
   "execution_count": 62,
   "metadata": {},
   "outputs": [
    {
     "name": "stdout",
     "output_type": "stream",
     "text": [
      "2 sequences read.\n",
      "Sequences are not identical.\n"
     ]
    }
   ],
   "source": [
    "def seq_identical():\n",
    "    sequence_info = seq_reader()\n",
    "    sequence_holder = list(np.zeros(len(sequence_info), dtype=int))\n",
    "    for i, seq in enumerate(sequence_info):\n",
    "        sequence_holder[i] = seq.seq\n",
    "\n",
    "    all_identical = set(tuple(seq) for seq in sequence_holder) == 1\n",
    "    \n",
    "    if all_identical:\n",
    "        print('All sequences are identical.')\n",
    "    else:\n",
    "        print('Sequences are not identical.')\n",
    "\n",
    "seq_identical()"
   ]
  },
  {
   "cell_type": "markdown",
   "metadata": {},
   "source": [
    "Turns out they are not! This is just a simple and fast way to verify if an indeterminate number of sequences are the exact same - in content and in order - without having to check every possible pairwise comparison.\n",
    "\n",
    "**Extra-challenge for Python lovers** -> Create and run another function that fulfills the same goal <u>without performing pairwise comparisons</u>.\n",
    "\n",
    "We can continue comparing these sequences. In fact, we are going to take advantage of them being just two. It's time to introduce pairwise sequence alignment!\n",
    "\n",
    "Imagine the following two sequences:\n",
    "- *Sequence A*: `ACTGTCGCA`\n",
    "- *Sequence B*: `ACCGTGGCA`\n",
    "\n",
    "Can you spot the differences? Would you be able to align both sequences in such a way that we can easily pinpoint the matches and mismatches? Something like what you get if you press the following Run button:"
   ]
  },
  {
   "cell_type": "code",
   "execution_count": 63,
   "metadata": {},
   "outputs": [
    {
     "name": "stdout",
     "output_type": "stream",
     "text": [
      "Alignment between the sequences:\n",
      "\n",
      "ACTGTCGCA\n",
      "||.||.|||\n",
      "ACCGTGGCA\n",
      "\n"
     ]
    }
   ],
   "source": [
    "def test_aligner():\n",
    "    seq_a = 'ACTGTCGCA'\n",
    "    seq_b = 'ACCGTGGCA'\n",
    "    aligner = Align.PairwiseAligner()\n",
    "\n",
    "    aligner.mode = 'global'     \n",
    "    aligner.match_score = 1      \n",
    "    aligner.mismatch_score = 1     \n",
    "    aligner.open_gap_score = 0.1\n",
    "    aligner.extend_gap_score = 0.1      \n",
    "\n",
    "    alignments = aligner.align(seq_a, seq_b)\n",
    "    print(f'Alignment between the sequences:\\n')\n",
    "    print(alignments[0])\n",
    "\n",
    "test_aligner()"
   ]
  },
  {
   "cell_type": "markdown",
   "metadata": {},
   "source": [
    "I'm sure you do, but bioinformatic pipelines routinely deal with sequences thousand of bases long. How can we mathematically align two sequences like this in a consistent and reproducible way? Enter the alignment matrix:\n",
    "\n",
    "\n",
    "|   | - | A | C | T | G | T | C | G | C | A  |\n",
    "|---|---|---|---|---|---|---|---|---|---|---|\n",
    "| - | 0 |   |   |   |   |   |   |   |   |   |\n",
    "| A |   |   |   |   |   |   |   |   |   |   |\n",
    "| C |   |   |   |   |   |   |   |   |   |   |\n",
    "| C |   |   |   |   |   |   |   |   |   |   |\n",
    "| G |   |   |   |   |   |   |   |   |   |   |\n",
    "| T |   |   |   |   |   |   |   |   |   |   |\n",
    "| G |   |   |   |   |   |   |   |   |   |   |\n",
    "| G |   |   |   |   |   |   |   |   |   |   |\n",
    "| C |   |   |   |   |   |   |   |   |   |   |\n",
    "| A |   |   |   |   |   |   |   |   |   |   |\n",
    "\n",
    "Creating an alignment score matrix is a foundational step in understanding sequence alignment algorithms. The matrix helps visualize the process of aligning two sequences by scoring similarities, differences, and gaps. For this explanation, we'll focus on a simple scoring scheme: +1 for a match, -1 for a mismatch, and -2 for a gap. The goal is to align these sequences to maximize the alignment score based on our scoring scheme. Our very first value (*i0*, *j0*) is a 0, representing the cost of missaligning two empty sequences.\n",
    "\n",
    "We'll start by initializing our first row with gap penalties - the cost of skipping a base to better align the sequences. This step is necessary to begin filling the matrix.\n",
    "\n",
    "|   | - | A | C | T | G | T | C | G | C | A  |\n",
    "|---|---|---|---|---|---|---|---|---|---|---|\n",
    "| - | 0 | -2| -4| -6| -8| -10| -12| -14| -16| -18|\n",
    "| A |   |   |   |   |   |   |   |   |   |   |\n",
    "| C |   |   |   |   |   |   |   |   |   |   |\n",
    "| C |   |   |   |   |   |   |   |   |   |   |\n",
    "| G |   |   |   |   |   |   |   |   |   |   |\n",
    "| T |   |   |   |   |   |   |   |   |   |   |\n",
    "| G |   |   |   |   |   |   |   |   |   |   |\n",
    "| G |   |   |   |   |   |   |   |   |   |   |\n",
    "| C |   |   |   |   |   |   |   |   |   |   |\n",
    "| A |   |   |   |   |   |   |   |   |   |   |\n",
    "\n",
    "Then, the rules of the game are simple. Starting from the first position:\n",
    "1. If the characters match, add the match score (+1) to the upper-left diagonal value.\n",
    "2. If the characters don't match, take the maximum of:\n",
    "    - The diagonal value plus the mismatch score (-1).\n",
    "    - The left value plus the gap penalty (-2).\n",
    "    - The above value plus the gap penalty (-2).\n",
    "3. Repeat step 2 for each cell in the matrix until the last value (*i<sub>m</sub>*, *j<sub>n</sub>*).\n",
    "\n",
    "You should obtain a table like this (don't worry, you don't have to do it manually)\n",
    "\n",
    "\n",
    "|   | - | A  | C  | T  | G  | T  | C  | G  | C  | A  |\n",
    "|---|---|----|----|----|----|----|----|----|----|----|\n",
    "| - | 0 | -2 | -4 | -6 | -8 | -10| -12| -14| -16| -18|\n",
    "| A | -2| 1  | -1 | -3 | -5 | -7 | -9 | -11| -13| -15|\n",
    "| C | -4| -1 | 2  | 0  | -2 | -4 | -6 | -8 | -10| -12|\n",
    "| C | -6| -3 | 0  | 1  | -1 | -1 | -3 | -5 | -7 | -9 |\n",
    "| G | -8| -5 | -2 | -1 | 2  | 0  | 0  | -2 | -4 | -6 |\n",
    "| T |-10| -7 | -4 | -3 | 0  | 3  | 1  | -1 | -3 | -5 |\n",
    "| G |-12| -9 | -6 | -3 | -2 | 1  | 2  | 0  | 0  | -2 |\n",
    "| G |-14|-11 | -8 | -5 | -2 | -1 | 2  | 3  | 1  | -1 |\n",
    "| C |-16|-13 | -10| -7 | -4 | -3 | 0  | 1  | 4  | 2  |\n",
    "| A |-18|-15 | -12| -9 | -6 | -5 | -2 | -1 | 2  | 5  |\n",
    "\n",
    "\n",
    "And now that this is over, we would need to **reconstruct** our path based on the choices we made (diagonal, left or up) in a process called *traceback*. First we must choose the right cell to begin this *traceback*:\n",
    "\n",
    "- For global alignment ([Needleman-Wunsch](https://www.wikiwand.com/en/Needleman%E2%80%93Wunsch_algorithm)), start from the bottom-right cell of the matrix.\n",
    "- For local alignment ([Smith-Waterman](https://www.wikiwand.com/en/Smith%E2%80%93Waterman_algorithm)), start from the highest-scoring cell in the entire matrix.\n",
    "\n",
    "*Traceback* Steps:\n",
    "- If the optimal path moves diagonally (from (*i*, *j*) to (*i-1*, *j-1*)), it indicates a match or mismatch. Add the corresponding characters from both sequences to the alignment and move to the cell (*i-1*, *j-1*).\n",
    "- If the optimal path moves up (from (*i*, *j*) to (*i-1*, *j*)), it indicates a gap in the second sequence. Add a gap character (-) to the alignment for the second sequence, the character from the first sequence, and move to the cell (*i-1*, *j*).\n",
    "- If the optimal path moves left (from (*i*, *j*) to (*i*, *j-1*)), it indicates a gap in the first sequence. Add a gap character (-) to the alignment for the first sequence, the character from the second sequence, and move to the cell (*i*, *j*) to (*i*, *j-1*).\n",
    "\n",
    "Repeat the process of checking for diagonal, up, or left moves until you reach the finishing cell:\n",
    "- For global alignment, this is the top-left cell (*i0*, *j0*).\n",
    "- For local alignment, this is any cell on the border where the traceback started (depending on the algorithm's rules, you might stop once you hit a score of 0 to only include the high-scoring local region).\n",
    "\n",
    "We can generate a programmatic implementation of the global algorithm  with a few lines of code. Press the Run button to see how it performs."
   ]
  },
  {
   "cell_type": "code",
   "execution_count": 64,
   "metadata": {},
   "outputs": [
    {
     "name": "stdout",
     "output_type": "stream",
     "text": [
      "    -   A   C  T  G   T   C   G   C   A\n",
      "-   0  -2  -4 -6 -8 -10 -12 -14 -16 -18\n",
      "A  -2   1  -1 -3 -5  -7  -9 -11 -13 -15\n",
      "C  -4  -1   2  0 -2  -4  -6  -8 -10 -12\n",
      "C  -6  -3   0  1 -1  -1  -3  -5  -7  -9\n",
      "G  -8  -5  -2 -1  2   0   0  -2  -4  -6\n",
      "T -10  -7  -4 -3  0   3   1  -1  -3  -5\n",
      "G -12  -9  -6 -3 -2   1   2   0   0  -2\n",
      "G -14 -11  -8 -5 -2  -1   2   3   1  -1\n",
      "C -16 -13 -10 -7 -4  -3   0   1   4   2\n",
      "A -18 -15 -12 -9 -6  -5  -2  -1   2   5\n"
     ]
    }
   ],
   "source": [
    "def needleman_wunsch_test():\n",
    "    # Initialize the scoring matrix\n",
    "    seq1 = 'ACTGTCGCA'\n",
    "    seq2 = 'ACCGTGGCA'\n",
    "    match_score = 1\n",
    "    mismatch_penalty = -1\n",
    "    gap_penalty = -2\n",
    "    m, n = len(seq1), len(seq2)\n",
    "    score_matrix = [[0 for _ in range(n+1)] for _ in range(m+1)]\n",
    "\n",
    "    # Initialize the edges with gap penalties\n",
    "    for i in range(m + 1):\n",
    "        score_matrix[i][0] = i * gap_penalty\n",
    "    for j in range(n + 1):\n",
    "        score_matrix[0][j] = j * gap_penalty\n",
    "\n",
    "    # Fill in the scoring matrix\n",
    "    for i in range(1, m + 1):\n",
    "        for j in range(1, n + 1):\n",
    "            match = score_matrix[i-1][j-1] + (match_score if seq1[i-1] == seq2[j-1] else mismatch_penalty)\n",
    "            delete = score_matrix[i-1][j] + gap_penalty\n",
    "            insert = score_matrix[i][j-1] + gap_penalty\n",
    "            score_matrix[i][j] = max(match, delete, insert)\n",
    "\n",
    "    print(pd.DataFrame(score_matrix, columns = ['-'] + list(seq1), index = ['-'] + list(seq2)))\n",
    "\n",
    "needleman_wunsch_test()\n"
   ]
  },
  {
   "cell_type": "markdown",
   "metadata": {},
   "source": [
    "Few! What a pain! Fortunately, the Biopython library contains modules that are here to take the burden out of it. Sit back, take a breather and let the program do it in a second pressing the Run button. You have earned it."
   ]
  },
  {
   "cell_type": "code",
   "execution_count": 65,
   "metadata": {},
   "outputs": [
    {
     "name": "stdout",
     "output_type": "stream",
     "text": [
      "2 sequences read.\n",
      "Aligning sequences...\n",
      "GTGGTCGCCGCGATCAAGGAGTTCTTCGGCACCAGCCAGCTGAGCCAATTCATGTACCAGAACAACCCGCTGTCGGGGTTGACCCACAAGCGCCGACTGTCGGCGCTGGGGCCCGGCGGTCTGTCACGTGAGCGTGCCGGGCTG\n",
      "||||||||||||||||||||||||||||||||||||||||||||||||||||||.||||||||||||||.||||||||||||||||||||||||||||||||||||||||||||||||||||||||||||||||||||||||||\n",
      "GTGGTCGCCGCGATCAAGGAGTTCTTCGGCACCAGCCAGCTGAGCCAATTCATGGACCAGAACAACCCGTTGTCGGGGTTGACCCACAAGCGCCGACTGTCGGCGCTGGGGCCCGGCGGTCTGTCACGTGAGCGTGCCGGGCTG\n",
      "\n"
     ]
    }
   ],
   "source": [
    "def entrez_aligner():\n",
    "    sequence_info = seq_reader()\n",
    "    print('Aligning sequences...')\n",
    "    aligner = Align.PairwiseAligner()\n",
    "\n",
    "    aligner.mode = 'local'     # Choose \"global\" or \"local\"\n",
    "    aligner.match_score = 1      # Choose your match score here, for example -3\n",
    "    aligner.mismatch_score = 1     # Choose your mismatch score here, for example 3\n",
    "    aligner.open_gap_score = 0.1     # Choose your gap penalties here, for example 0.6\n",
    "    aligner.extend_gap_score = 0.1      # Choose your gap penalties here, for example 0.6\n",
    "\n",
    "    alignments = aligner.align(sequence_info[0].seq, sequence_info[1].seq)\n",
    "    print(alignments[0])\n",
    "\n",
    "entrez_aligner()"
   ]
  },
  {
   "cell_type": "markdown",
   "metadata": {},
   "source": [
    "Now that's a much better way to visualize an alignment. The midline is composed of three symbols:\n",
    "- \"|\" represents a match.\n",
    "- \"-\" represents a gap.\n",
    "- \".\" represents a substitution.\n",
    "\n",
    "Feel free to experiment with different scoring parameters and alignment modes. For reference:\n",
    "- Global mode focuses on maximizing the alignment from end to end of both sequences.\n",
    "- Local mode focuses on maximizing the alignment in the most similar regions of both sequences.\n",
    "\n",
    "Observe how modifying the different scores alters the alignment output. As a quick summary, remember the following points:\n",
    "1. We use pairwise alignment algorithms to obtain the best matching score between our sequences given our scoring scheme.\n",
    "2. We fill the matrix sequentially based on a set of instructions.\n",
    "3. Then we construct the alignment by *tracing back* our steps. Depending on our choices we write bases or gaps until our alignment is complete.\n",
    "\n",
    "*By the way, imagine doing the above steps manually with sequences of hundreds or even [thousands](https://www.wikiwand.com/en/Masochism_(disambiguation)) of bases.*\n",
    "\n",
    "Now that's out of the way, we will learn how to perform a [BLAST](https://blast.ncbi.nlm.nih.gov/Blast.cgi). BLAST (Basic Local Alignment Search Tool) is a fundamental algorithm for comparing an individual biological sequence (such as amino acids for proteins or nucleotides for DNA/RNA) with a library or database of sequences, and it works with the exact same principles of alignment you just learnt in the previous step.\n",
    "\n",
    "BLAST works as following:\n",
    "1. Query Sequence: The user submits a sequence to BLAST, which serves as the query.\n",
    "2. Database Search: BLAST compares the query sequence against a database of sequences to find matches.\n",
    "3. Identify Matches: It identifies high-scoring sequence pairs (HSPs) by looking for word matches between the query and database sequences and then extending these matches to find longer alignments without significant gaps.\n",
    "4. Scoring: Each potential alignment is scored based on the number of matches, mismatches, and gaps, with higher scores indicating better alignments.\n",
    "5. Results: BLAST returns a list of database sequences that are similar to the query sequence, including alignments and statistical measures of significance (such as [E-values](https://www.wikiwand.com/en/E-values), which estimate the number of chance matches in a database of a given size).\n",
    "\n",
    "For a visual, nice refresher into alignments and BLAST, check this very nice article courtesy of [Nature](https://www.nature.com/scitable/topicpage/basic-local-alignment-search-tool-blast-29096/).\n",
    "\n",
    "To continue with the exercise, we'll pick one of the two sequences at random and BLAST it. Enough with the talk! Hit that Run button and let the computer handle the rest."
   ]
  },
  {
   "cell_type": "code",
   "execution_count": 66,
   "metadata": {},
   "outputs": [
    {
     "name": "stdout",
     "output_type": "stream",
     "text": [
      "BLASTing sequence LN651305.1...\n"
     ]
    },
    {
     "name": "stdout",
     "output_type": "stream",
     "text": [
      "Successfully BLASTed sequence LN651305.1.\n"
     ]
    }
   ],
   "source": [
    "def blast_sequence_individual():\n",
    "    sequences = list(SeqIO.parse(\"filtered_sequences.fasta\", \"fasta\"))\n",
    "\n",
    "    print(f'BLASTing sequence {sequences[0].id}...')\n",
    "    result_handle = NCBIWWW.qblast(\"blastn\", \n",
    "                                    \"nt\", \n",
    "                                    sequences[0].seq,\n",
    "                                    expect=0.001,\n",
    "                                    hitlist_size=100)\n",
    "                                    \n",
    "    with open(f\"blast_result.xml\", \"w\") as out_handle:\n",
    "        out_handle.write(result_handle.read())\n",
    "    result_handle.close()\n",
    "    print(f'Successfully BLASTed sequence {sequences[0].id}.')\n",
    "\n",
    "def blast_sequence_individual_sim():\n",
    "    sequences = list(SeqIO.parse(\"filtered_sequences.fasta\", \"fasta\"))\n",
    "    print(f\"BLASTing sequence {sequences[0].id}...\")\n",
    "    time.sleep(5)\n",
    "    print(f'Successfully BLASTed sequence {sequences[0].id}.')\n",
    "            \n",
    "\n",
    "blast_sequence_individual_sim()"
   ]
  },
  {
   "cell_type": "markdown",
   "metadata": {},
   "source": [
    "Aaaand another simulacrum. The reasons for doing so are pretty much the same as before. Imagine having to calculate all those awful alignment matrices, but against millions of sequences, looking for the ones that return the best statistical probability of a non-random match. Talk about finding a needle in a genestack! In fact, the [genius](https://blastalgorithm.com/) of the BLAST database search is the speed and efficiency with which the algorithm handles such a colosal hunt. Nonetheless, if you run the non-simulacrum function, expect to wait for a few long minutes.\n",
    "\n",
    "Our BLAST has been executed. Feel free to explore the file called \"blast_result.xml\" by clicking on it. You will see that there is a pattern repeating itself within the document, and what appear to be metrics and sequences. These are the results returned from the database, and now we have to parse them nicely. Press the Run button to forget about the how-tos."
   ]
  },
  {
   "cell_type": "code",
   "execution_count": 67,
   "metadata": {},
   "outputs": [
    {
     "name": "stdout",
     "output_type": "stream",
     "text": [
      "Parsed 100 HSPs. Check file \"aggregated_sequences.fasta\"\n",
      "First HSP: Score 288 (260 bits), expectation 4.7e-65, alignment length 144\n",
      "Query:       1 GTGGTCGCCGCGATCAAGGAGTTCTTCGGCACCAGCCAGCTGAGC...CTG 144\n",
      "               |||||||||||||||||||||||||||||||||||||||||||||...|||\n",
      "Sbjct:  757255 GTGGTCGCCGCGATCAAGGAGTTCTTCGGCACCAGCCAGCTGAGC...CTG 757398.\n"
     ]
    }
   ],
   "source": [
    "def parse_blast_results_to_fasta():\n",
    "    hsps = []\n",
    "    with open(f'blast_result.xml') as result_file:\n",
    "        blast_record = NCBIXML.read(result_file)\n",
    "        for alignment in blast_record.alignments:\n",
    "            for hsp in alignment.hsps:\n",
    "                hsps.append(hsp)\n",
    "    \n",
    "    print(f'Parsed {len(hsps)} HSPs. Check file \"aggregated_sequences.fasta\"')\n",
    "    print(f'First HSP: {hsps[0]}.')\n",
    "\n",
    "parse_blast_results_to_fasta()"
   ]
  },
  {
   "cell_type": "markdown",
   "metadata": {},
   "source": [
    "One hundred HSPs! That means that from our original query, the BLAST has found one hundred matching sequences and has calculated the metrics that allow us to quantitatively measure the degree of similarity and length between them.\n",
    "\n",
    "One hundred sequences. Would it be possible to align **all** of them? Would it be neccessary to perform all possible pairwise alignments between all possible pairs of sequences? That would be nothing less than 100<sup>2</sup> = 10000 pairwise alignments. And they wouldn't account for a combined alignment score, but only for individual pairs. For this, we need a new mathematical tool: Multiple Sequence Alignment - don't worry, we won't enter into the gritty mathematical details. Press the Run button to perform another simulacrum."
   ]
  },
  {
   "cell_type": "code",
   "execution_count": 68,
   "metadata": {},
   "outputs": [
    {
     "name": "stdout",
     "output_type": "stream",
     "text": [
      "Aligning sequences with ClustalOmega...\n"
     ]
    },
    {
     "name": "stdout",
     "output_type": "stream",
     "text": [
      "Multiple Sequence Alignment Complete. Check file \"aligned_sequences.fasta\"\n"
     ]
    }
   ],
   "source": [
    "def clustal_msa_aligner():\n",
    "    print('Aligning sequences with ClustalOmega...')\n",
    "    clustalomega_cline = ClustalOmegaCommandline(infile=\"aggregated_sequences.fasta\", outfile=\"aligned_sequences.fasta\", verbose=True, auto=True, force=True)\n",
    "    stdout, stderr = clustalomega_cline()\n",
    "    print(f'Multiple Sequence Alignment Complete. Check file \"aligned_sequences.fasta\"')\n",
    "\n",
    "def clustal_msa_aligner_sim():\n",
    "    print('Aligning sequences with ClustalOmega...')\n",
    "    time.sleep(5)\n",
    "    print(f'Multiple Sequence Alignment Complete. Check file \"aligned_sequences.fasta\"')\n",
    "\n",
    "clustal_msa_aligner_sim()\n"
   ]
  },
  {
   "cell_type": "markdown",
   "metadata": {},
   "source": [
    "At this point you may be thinking that half of this code doesn't work in a real setting. Too many simulacrums. Well, in this case it's because we are running an external tool to the environment. If pairwise alignment looks tedious enough from the mathematical standpoint, it is Disney World in comparison to the complexity of performing MSA, and it can be easily verified by the amount of time and resources it takes to perform a simple one between a moderate amount of not very long sequences. However, if you want to have a second opinion, follow these instructions:\n",
    "\n",
    "1. Click the following [link](https://www.ebi.ac.uk/jdispatcher/msa/clustalo).\n",
    "2. Select \"DNA\".\n",
    "3. Click \"Choose File\" and select \"aggregated_sequences.fasta\".\n",
    "4. Write a title for the job.\n",
    "5. Click submit.\n",
    "6. Sit back and enjoy while a high-performance cluster of computers at the other side of the Atlantic churns the numbers.\n",
    "\n",
    "OR\n",
    "\n",
    "1. Check the following [link](https://www.ebi.ac.uk/Tools/services/rest/mview/result/mview-I20240318-212727-0482-15810022-p1m/aln-html) for a precomputed solution in HTML.\n",
    "\n",
    "However you choose to do it, the result will be an output file you already have available: \"aligned_sequences.fasta\". It will be the last ingredient we need for what lies ahead. Press that Run button, we are almost finished!\n"
   ]
  },
  {
   "cell_type": "code",
   "execution_count": 69,
   "metadata": {},
   "outputs": [
    {
     "name": "stdout",
     "output_type": "stream",
     "text": [
      "Calculating Distance Matrix...\n",
      "Identity Matrix Sample:\n",
      "                                                                 \n",
      "  0.000000       NaN       NaN       NaN       NaN       NaN  NaN\n",
      "  0.041667  0.000000       NaN       NaN       NaN       NaN  NaN\n",
      "  0.041667  0.041667  0.000000       NaN       NaN       NaN  NaN\n",
      "  0.041667  0.041667  0.041667  0.000000       NaN       NaN  NaN\n",
      "  0.041667  0.041667  0.041667  0.041667  0.000000       NaN  NaN\n",
      "  0.041667  0.041667  0.041667  0.041667  0.041667  0.000000  NaN\n",
      "  0.041667  0.041667  0.041667  0.041667  0.041667  0.041667  0.0\n"
     ]
    }
   ],
   "source": [
    "def distance_matrix_calculator():\n",
    "    print('Calculating Distance Matrix...')\n",
    "    align = AlignIO.read(\"aligned_sequences.fasta\", \"fasta\")\n",
    "    calculator = DistanceCalculator('identity') # Try other options like \"blastn\", \"trans\", \"benner6\", \"benner22\", \"benner74\"\n",
    "    dm = calculator.get_distance(align)\n",
    "\n",
    "    # Convert the identity matrix to a pandas DataFrame for nicer output\n",
    "    split_names = [_.split(\"|\")[-1] for _ in dm.names]\n",
    "    df = pd.DataFrame(dm.matrix, columns=split_names, index=split_names)\n",
    "    print('Identity Matrix Sample:')\n",
    "    print(df.iloc[:7, :7])\n",
    "\n",
    "pd.set_option('display.width', None)\n",
    "pd.set_option('display.max_columns', None)\n",
    "distance_matrix_calculator()"
   ]
  },
  {
   "cell_type": "markdown",
   "metadata": {},
   "source": [
    "Our algorithms have generated a [distance matrix](https://www.wikiwand.com/en/Distance_matrix). This is a diagonal, squared matrix that contains the \"distances\" between all pairs of our already aligned sequences. The diagonal is composed of 0s, because there is no \"distance\" between a sequence and itself. Feel free to experiment with the options in the function and see how they change the scores in the sample output matrix. When you are ready, press the Run button one final time."
   ]
  },
  {
   "cell_type": "code",
   "execution_count": 70,
   "metadata": {},
   "outputs": [
    {
     "name": "stdout",
     "output_type": "stream",
     "text": [
      "Constructing Phylogenetic Tree...\n",
      "          _________________ gi|2556671665|gb|CP130772.1|\n",
      "    _____|\n",
      "  _|     |_________________ gi|2556671679|gb|CP130788.1|\n",
      " | |\n",
      " | |_______________________ gi|2607448098|gb|CP097111.1|\n",
      " |\n",
      " |    _____________________ gi|2556671736|gb|CP130805.1|\n",
      " |___|\n",
      " |   |_____________________ gi|2646972455|dbj|AP024456.1|\n",
      " |\n",
      " |        __________________ gi|2646996763|dbj|AP024462.1|\n",
      " |  _____|\n",
      " | |     |_______________________ gi|2240006232|gb|OL961725.1|\n",
      " | |\n",
      " | |      _________________ gi|2556671685|gb|CP130795.1|\n",
      " | |_____|\n",
      " | |     |_________________ gi|309753193|gb|HQ286624.1|\n",
      " | |\n",
      " | |        _________________ gi|2556671741|gb|CP130811.1|\n",
      " | |      _|\n",
      " | |  ___| |_________________ gi|2556671747|gb|CP130815.1|\n",
      " | | |   |\n",
      " | | |   |______________ gi|669073577|gb|CP008969.1|\n",
      " | | |\n",
      " | | |   _________________________ gi|1253806357|gb|MF981086.1|\n",
      " | | |  |\n",
      " | | |  |    ______________________ gi|554681129|gb|KF444081.1|\n",
      " | | |  |  _|\n",
      " |,| |  | | |    _________________ gi|30386925|gb|AY280816.1|\n",
      " |||_|  |_| |___|\n",
      " ||| |  | |     |_________________ gi|746590776|emb|LN651305.1|\n",
      " ||| |  | |\n",
      " ||| |  | |_______________________ gi|1835518980|gb|CP048071.1|\n",
      " ||| |  |\n",
      " ||| |  |         _________________ gi|30386899|gb|AY271374.1|\n",
      " ||| |  |________|\n",
      " ||| |  |        |________________ gi|1252309680|gb|MG012797.1|\n",
      " ||| |  |\n",
      " ||| |  |    _____________________ gi|569533973|gb|KF771050.1|\n",
      " ||| |__| __|\n",
      " |||    ||  |_____________________ gi|2240006228|gb|OL961723.1|\n",
      " |||    ,|\n",
      " |||    ||        _________________ gi|339716149|gb|JF268609.1|\n",
      " |||    ||    ___|\n",
      " |||    ||___|   |________________ gi|2240006238|gb|OL961728.1|\n",
      " |||    |    |\n",
      " |||    |    |_____________________ gi|2521402661|gb|CP127273.1|\n",
      " |||    |\n",
      " |||    |     ____________ gi|2556671745|gb|CP130817.1|\n",
      " |||    |  __|\n",
      " |||    | |  |_____________________ gi|2240006230|gb|OL961724.1|\n",
      " ,||    |,|\n",
      " |||    |||   ______________________________ gi|2567920107|gb|CP133043.1|\n",
      " |||    |||__|\n",
      " |||    ||   |_____________________ gi|2240006234|gb|OL961726.1|\n",
      " |||    ||\n",
      " |||    ||_________________________ gi|309753179|gb|HQ286617.1|\n",
      " |||    ||\n",
      " |||    ||_________________________ gi|1252309682|gb|MG012798.1|\n",
      " |||    ||\n",
      " |||    ||    _____________________ gi|2240006226|gb|OL961722.1|\n",
      " |||    ||___|\n",
      " |||    |    |_____________________ gi|1253806359|gb|MF981087.1|\n",
      " |||    |\n",
      " |||    |     ____________________ gi|893707566|gb|KP658698.1|\n",
      " |||    |____|\n",
      " |||         |    _________________ gi|1917535162|gb|CP041805.1|\n",
      " |||         |___|\n",
      " |||             |________________ gi|1373737386|gb|MG995054.1|\n",
      " |||\n",
      " |||      ___________________ gi|2646819344|gb|CP141297.1|\n",
      " |||_____|\n",
      " ||      |_______________________ gi|1218182040|gb|KY022763.1|\n",
      " ||\n",
      " ||   _____________________ gi|2556671732|gb|CP130804.1|\n",
      " ||__|\n",
      " |   |    __________________ gi|2573961726|gb|CP133602.1|\n",
      " |   |___|\n",
      " |       |______________ gi|2240006236|gb|OL961727.1|\n",
      " |\n",
      " |    _____________________ gi|2556671664|gb|CP130779.1|\n",
      " | __|\n",
      " ||  |    _________________ gi|2556671653|gb|CP130770.1|\n",
      " ||  |___|\n",
      " ||      |_________________ gi|2556671742|gb|CP130812.1|\n",
      " ||\n",
      " ||       _________________ gi|2556671666|gb|CP130783.1|\n",
      " ||   ___|\n",
      " || _|   |_________________ gi|2556671743|gb|CP130809.1|\n",
      " ||| |\n",
      " ||| |_____________________ gi|2646980546|dbj|AP024458.1|\n",
      " | |\n",
      " | |     ___________________ gi|2556671680|gb|CP130793.1|\n",
      " | |____|\n",
      " |      |________________________ gi|253318418|gb|CP001658.1|\n",
      " |\n",
      " |        ________________ gi|2556671659|gb|CP130775.1|\n",
      " |  _____|\n",
      " | |     |_________________ gi|2556671746|gb|CP130816.1|\n",
      " |_|\n",
      " | |  _____________________ gi|2556671748|gb|CP130814.1|\n",
      " | |_|\n",
      " |   |    _________________ gi|2556671744|gb|CP130813.1|\n",
      " |   |___|\n",
      " |       |_________________ gi|2607455900|gb|CP104271.1|\n",
      " |\n",
      " |    _____________________ gi|2556671660|gb|CP130771.1|\n",
      " |  _|\n",
      " | | |    _________________ gi|2556671656|gb|CP130773.1|\n",
      " | | |___|\n",
      " |_|     |_________________ gi|2556671737|gb|CP130806.1|\n",
      " | |\n",
      " | |      _________________ gi|2556671734|gb|CP130802.1|\n",
      " | |_____|\n",
      " |       |_________________ gi|2556671739|gb|CP130808.1|\n",
      " |\n",
      " |        _________________ gi|2556671675|gb|CP130786.1|\n",
      " |  _____|\n",
      " | |     |_________________ gi|2573965582|gb|CP133604.1|\n",
      " | |\n",
      " |_|      _________________ gi|2556671672|gb|CP130789.1|\n",
      " | |  ___|\n",
      " | | |   |_________________ gi|2556671682|gb|CP130800.1|\n",
      " | |_|\n",
      " |   |    ________________ gi|2556671658|gb|CP130777.1|\n",
      " |   |___|\n",
      " |       |_________________ gi|2646988626|dbj|AP024460.1|\n",
      " |\n",
      " |    _____________________ gi|2556671674|gb|CP130787.1|\n",
      " |___|\n",
      " |   |_____________________ gi|2556671730|gb|CP130796.1|\n",
      " |\n",
      " |    _____________________ gi|2556671678|gb|CP130785.1|\n",
      " | __|\n",
      " ||  |    ________________ gi|2556671731|gb|CP130799.1|\n",
      " ||  |___|\n",
      " ||      |_________________ gi|2556671681|gb|CP130797.1|\n",
      "_,|      |\n",
      " ||      |_________________ gi|2646964358|dbj|AP024454.1|\n",
      " ||\n",
      " ||       ________________ gi|2556671662|gb|CP130776.1|\n",
      " ||______|\n",
      " |       |________________ gi|2646976508|dbj|AP024457.1|\n",
      " |\n",
      " |        ________________ gi|2556671655|gb|CP130778.1|\n",
      " | ______|\n",
      " ||      |________________ gi|2556671668|gb|CP130819.1|\n",
      " ||\n",
      " ||   _____________________ gi|2646984592|dbj|AP024459.1|\n",
      " ||__|\n",
      " |   |_____________________ gi|2646992669|dbj|AP024461.1|\n",
      " |\n",
      " |    _____________________ gi|2556671667|gb|CP130784.1|\n",
      " |___|\n",
      " |   |_____________________ gi|2573969470|gb|CP133603.1|\n",
      " |\n",
      " |    _____________________ gi|2556671670|gb|CP130792.1|\n",
      " |___|\n",
      " |   |_____________________ gi|2556671735|gb|CP130807.1|\n",
      " |\n",
      " |        _________________ gi|2556671654|gb|CP130780.1|\n",
      " |   ____|\n",
      " |  |    |_________________ gi|2567924010|gb|CP133044.1|\n",
      " | _|\n",
      " || | _____________________ gi|2556671684|gb|CP130794.1|\n",
      " || ||\n",
      " ||  |_____________________ gi|2573969471|gb|CP133601.1|\n",
      " ||\n",
      " ||       _________________ gi|2556671663|gb|CP130782.1|\n",
      " ||______|\n",
      " |       |_________________ gi|2607451991|gb|CP097112.1|\n",
      " |\n",
      " |        _________________ gi|2556671661|gb|CP130781.1|\n",
      " |    ___|\n",
      " |   |   |________________ gi|2556671733|gb|CP130801.1|\n",
      " |___|\n",
      " |   |    _________________ gi|2556671740|gb|CP130810.1|\n",
      " |   |___|\n",
      " |       |_________________ gi|2621470098|gb|CP138660.1|\n",
      " |\n",
      " |        _________________ gi|2556671683|gb|CP130798.1|\n",
      " |    ___|\n",
      " |   |   |_________________ gi|2556671738|gb|CP130803.1|\n",
      " | __|\n",
      " ||  |             ________ gi|2556671669|gb|CP130790.1|\n",
      " ||  |____________|\n",
      " ||               |________ gi|2607440342|gb|CP097109.1|\n",
      " ||\n",
      " ||   _____________________ gi|2556671657|gb|CP130774.1|\n",
      " ||__|\n",
      " |   |    _________________ gi|2556671676|gb|CP130791.1|\n",
      " |   |___|\n",
      " |       |_________________ gi|2646968396|dbj|AP024455.1|\n",
      " |\n",
      " |        _________________ gi|2567932646|gb|CP133041.1|\n",
      " |_______|\n",
      " |       |_________________ gi|2584956502|emb|OY741334.1|\n",
      " |\n",
      " |_________________________ gi|2607444204|gb|CP097110.1|\n",
      "\n"
     ]
    }
   ],
   "source": [
    "def phylogeny_calculator():\n",
    "    print('Constructing Phylogenetic Tree...')\n",
    "    align = AlignIO.read(\"aligned_sequences.fasta\", \"fasta\")\n",
    "    calculator = DistanceCalculator('identity') # Try other options like \"blastn\", \"trans\", \"benner6\", \"benner22\", \"benner74\"\n",
    "    dm = calculator.get_distance(align)\n",
    "    constructor = DistanceTreeConstructor(calculator, 'nj')  # Neighbor-Joining method. Try \"upgma\" (Unweighted Pair Group Method with Arithmetic Mean)\n",
    "    tree = constructor.build_tree(align)\n",
    "    Phylo.write(tree, \"phylogeny.xml\", \"phyloxml\")\n",
    "\n",
    "    # Optionally, display the tree\n",
    "    Phylo.draw_ascii(tree)\n",
    "    \n",
    "phylogeny_calculator()"
   ]
  },
  {
   "cell_type": "markdown",
   "metadata": {},
   "source": [
    "Last but not least, here's the promised [phylogenetic tree](https://www.ncbi.nlm.nih.gov/pmc/articles/PMC7123334/). Our functions have lead us to a point in which we can compare all the sequences with mathematical accuracy and draw such a tree. The distribution of the branches tells us about the possible common ancestors of each [genomic variant](https://www.genome.gov/about-genomics/educational-resources/fact-sheets/human-genomic-variation), while the length of the branches represent the figurative distance between the sequences. Feel free to once again modify the options in the constructor function, and see how they change the shape of the tree. \n",
    "\n",
    "This tree informs us about the proximity of the sequences analysed, and it's a good starting point to cluster our variants in an informative way. \n",
    "\n",
    "Congratulations on having arrived to the end the lesson. These are some of the basic tools bioinformaticians across the world use routinely in the fight agains TB; but as the saying goes, the rabbit hole goes much, much deeper. Huge international research efforts are both making use of these technologies, as well as trying to improve upon them. As a closure to this exercise, I invite you to take a look at some of the most fascinating current projects that involve technologies like these on a daily basis:\n",
    "- [The Earth BioGenome Project (EBP)](https://www.earthbiogenome.org/), aims to sequence, catalog, and characterize the genomes of all of Earth's eukaryotic biodiversity over a period of 10 years.\n",
    "- [The ENCODE Project](https://www.encodeproject.org/) aims to annotate the full human genome. That is, not only identifying the DNA sequence and its variations, but what each part of the sequence does. [The 1000 Genomes Project](https://www.internationalgenome.org/home) remains one of the largest repository of genomic human variation data, and it is heavily used by the biomedical community. Both are spiritual successors of the [Human Genome Project](https://www.genome.gov/human-genome-project), often considered the Manhattan Project of biology.\n",
    "- [AGAThA (GPU Acceleration of Guided Sequence Alignment for Long Read Mapping)](https://arxiv.org/abs/2403.06478) aims to take sequence alignment to the next level by enabling GPU parallel architectures into alignment algorithms, while [Embed-Search-Align using Transformer Models](https://ar5iv.labs.arxiv.org/html/2309.11087) takes inspiration in the similarities between DNA sequences and human languages, using technology originally developed for natural language processing (NLP).\n",
    "\n",
    "If you want to delve further into the science and art of biological data management and analysis, I recommend the following resources (I'm not affiliated in any way to them):\n",
    "- Molecular Biology of the Cell, by Alberts et al., the renouned reference manual for all things molecular, already in its 7th edition.\n",
    "- [The Biostars Handbook](https://www.biostarhandbook.com/), a beginner-friendly approach to all things bioinformatics, from scripts to Next Generation Sequencing.\n",
    "- [From Cell Line to Command Line](https://divingintogeneticsandgenomics.ck.page/), for those biologists that want to make the jump into the computational side of things.\n",
    "\n",
    "I hope you liked this little exercise, and that you can take something from it back to your professional and daily life! Please don't hesitate to make any questions, and I hope to hear from you all soon!"
   ]
  }
 ],
 "metadata": {
  "kernelspec": {
   "display_name": "Sudan_HN",
   "language": "python",
   "name": "python3"
  },
  "language_info": {
   "codemirror_mode": {
    "name": "ipython",
    "version": 3
   },
   "file_extension": ".py",
   "mimetype": "text/x-python",
   "name": "python",
   "nbconvert_exporter": "python",
   "pygments_lexer": "ipython3",
   "version": "3.11.5"
  }
 },
 "nbformat": 4,
 "nbformat_minor": 2
}
